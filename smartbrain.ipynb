{
 "cells": [
  {
   "cell_type": "code",
   "execution_count": 10,
   "id": "cec06b12",
   "metadata": {},
   "outputs": [
    {
     "name": "stdout",
     "output_type": "stream",
     "text": [
      "loading annotations into memory...\n"
     ]
    },
    {
     "ename": "PermissionError",
     "evalue": "[Errno 13] Permission denied: 'C:/Users/ASUS/OneDrive/Desktop/smartbrain/data/annotations/'",
     "output_type": "error",
     "traceback": [
      "\u001b[1;31m---------------------------------------------------------------------------\u001b[0m",
      "\u001b[1;31mPermissionError\u001b[0m                           Traceback (most recent call last)",
      "\u001b[1;32mc:\\Users\\ASUS\\OneDrive\\Desktop\\smartbrain\\smartbrain.ipynb Cell 1\u001b[0m in \u001b[0;36m<cell line: 12>\u001b[1;34m()\u001b[0m\n\u001b[0;32m      <a href='vscode-notebook-cell:/c%3A/Users/ASUS/OneDrive/Desktop/smartbrain/smartbrain.ipynb#W1sZmlsZQ%3D%3D?line=8'>9</a>\u001b[0m ann_file \u001b[39m=\u001b[39m \u001b[39m'\u001b[39m\u001b[39mC:/Users/ASUS/OneDrive/Desktop/smartbrain/data/annotations/\u001b[39m\u001b[39m'\u001b[39m\n\u001b[0;32m     <a href='vscode-notebook-cell:/c%3A/Users/ASUS/OneDrive/Desktop/smartbrain/smartbrain.ipynb#W1sZmlsZQ%3D%3D?line=10'>11</a>\u001b[0m \u001b[39m# Load the annotations\u001b[39;00m\n\u001b[1;32m---> <a href='vscode-notebook-cell:/c%3A/Users/ASUS/OneDrive/Desktop/smartbrain/smartbrain.ipynb#W1sZmlsZQ%3D%3D?line=11'>12</a>\u001b[0m coco \u001b[39m=\u001b[39m COCO(ann_file)\n\u001b[0;32m     <a href='vscode-notebook-cell:/c%3A/Users/ASUS/OneDrive/Desktop/smartbrain/smartbrain.ipynb#W1sZmlsZQ%3D%3D?line=13'>14</a>\u001b[0m \u001b[39m# Define the input size for the model\u001b[39;00m\n\u001b[0;32m     <a href='vscode-notebook-cell:/c%3A/Users/ASUS/OneDrive/Desktop/smartbrain/smartbrain.ipynb#W1sZmlsZQ%3D%3D?line=14'>15</a>\u001b[0m input_size \u001b[39m=\u001b[39m (\u001b[39m800\u001b[39m, \u001b[39m1333\u001b[39m)\n",
      "File \u001b[1;32mc:\\Users\\ASUS\\AppData\\Local\\Programs\\Python\\Python310\\lib\\site-packages\\pycocotools\\coco.py:85\u001b[0m, in \u001b[0;36mCOCO.__init__\u001b[1;34m(self, annotation_file)\u001b[0m\n\u001b[0;32m     83\u001b[0m \u001b[39mprint\u001b[39m(\u001b[39m'\u001b[39m\u001b[39mloading annotations into memory...\u001b[39m\u001b[39m'\u001b[39m)\n\u001b[0;32m     84\u001b[0m tic \u001b[39m=\u001b[39m time\u001b[39m.\u001b[39mtime()\n\u001b[1;32m---> 85\u001b[0m dataset \u001b[39m=\u001b[39m json\u001b[39m.\u001b[39mload(\u001b[39mopen\u001b[39;49m(annotation_file, \u001b[39m'\u001b[39;49m\u001b[39mr\u001b[39;49m\u001b[39m'\u001b[39;49m))\n\u001b[0;32m     86\u001b[0m \u001b[39massert\u001b[39;00m \u001b[39mtype\u001b[39m(dataset)\u001b[39m==\u001b[39m\u001b[39mdict\u001b[39m, \u001b[39m'\u001b[39m\u001b[39mannotation file format \u001b[39m\u001b[39m{}\u001b[39;00m\u001b[39m not supported\u001b[39m\u001b[39m'\u001b[39m\u001b[39m.\u001b[39mformat(\u001b[39mtype\u001b[39m(dataset))\n\u001b[0;32m     87\u001b[0m \u001b[39mprint\u001b[39m(\u001b[39m'\u001b[39m\u001b[39mDone (t=\u001b[39m\u001b[39m{:0.2f}\u001b[39;00m\u001b[39ms)\u001b[39m\u001b[39m'\u001b[39m\u001b[39m.\u001b[39mformat(time\u001b[39m.\u001b[39mtime()\u001b[39m-\u001b[39m tic))\n",
      "\u001b[1;31mPermissionError\u001b[0m: [Errno 13] Permission denied: 'C:/Users/ASUS/OneDrive/Desktop/smartbrain/data/annotations/'"
     ]
    }
   ],
   "source": [
    "import tensorflow as tf\n",
    "import numpy as np\n",
    "import cv2\n",
    "import os\n",
    "from pycocotools.coco import COCO\n",
    "\n",
    "# Define paths to the dataset and annotations\n",
    "data_dir = 'images'\n",
    "ann_file = 'annotations'\n",
    "\n",
    "# Load the annotations\n",
    "coco = COCO(ann_file)\n",
    "\n",
    "# Define the input size for the model\n",
    "input_size = (800, 1333)\n",
    "\n",
    "# Define the mean and standard deviation for normalization\n",
    "mean = np.array([0.485, 0.456, 0.406])\n",
    "std = np.array([0.229, 0.224, 0.225])\n",
    "\n",
    "# Define the output path for the preprocessed data\n",
    "output_dir = 'data'\n",
    "\n",
    "# Create the output directory if it doesn't exist\n",
    "if not os.path.exists(output_dir):\n",
    "    os.makedirs(output_dir)\n",
    "\n",
    "# Loop over the images in the dataset\n",
    "for img_id in coco.imgs:\n",
    "\n",
    "    # Load the image\n",
    "    img_path = os.path.join(data_dir, coco.loadImgs(img_id)[0]['file_name'])\n",
    "    img = cv2.imread(img_path)\n",
    "\n",
    "    # Resize the image\n",
    "    img = cv2.resize(img, input_size)\n",
    "\n",
    "    # Convert the image to RGB and normalize the pixel values\n",
    "    img = cv2.cvtColor(img, cv2.COLOR_BGR2RGB)\n",
    "    img = img / 255.0\n",
    "    img = (img - mean) / std\n",
    "\n",
    "    # Save the preprocessed image to the output directory\n",
    "    output_path = os.path.join(output_dir, str(img_id) + '.npy')\n",
    "    np.save(output_path, img)\n"
   ]
  },
  {
   "cell_type": "code",
   "execution_count": 5,
   "id": "803a7ea7",
   "metadata": {},
   "outputs": [
    {
     "name": "stdout",
     "output_type": "stream",
     "text": [
      " Volume in drive C is OS\n",
      " Volume Serial Number is B496-AB59\n",
      "\n",
      " Directory of c:\\Users\\ASUS\\OneDrive\\Desktop\\smartbrain\n",
      "\n"
     ]
    },
    {
     "name": "stderr",
     "output_type": "stream",
     "text": [
      "File Not Found\n"
     ]
    }
   ],
   "source": [
    "ls -la "
   ]
  },
  {
   "cell_type": "code",
   "execution_count": null,
   "id": "1cd8faa7",
   "metadata": {},
   "outputs": [],
   "source": []
  }
 ],
 "metadata": {
  "kernelspec": {
   "display_name": "Python 3",
   "language": "python",
   "name": "python3"
  },
  "language_info": {
   "codemirror_mode": {
    "name": "ipython",
    "version": 3
   },
   "file_extension": ".py",
   "mimetype": "text/x-python",
   "name": "python",
   "nbconvert_exporter": "python",
   "pygments_lexer": "ipython3",
   "version": "3.10.2"
  }
 },
 "nbformat": 4,
 "nbformat_minor": 5
}
